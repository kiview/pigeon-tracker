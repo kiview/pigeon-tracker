{
 "cells": [
  {
   "cell_type": "code",
   "execution_count": null,
   "metadata": {},
   "outputs": [],
   "source": [
    "from matplotlib import pyplot as plt\n",
    "from pigeon_tracker import tracker as tracker\n",
    "import numpy as np\n",
    "\n",
    "import cv2"
   ]
  },
  {
   "cell_type": "code",
   "execution_count": null,
   "metadata": {},
   "outputs": [],
   "source": [
    "# Specifies width and height of plotted images\n",
    "plt.rcParams['figure.figsize'] = [10, 5]"
   ]
  },
  {
   "cell_type": "code",
   "execution_count": null,
   "metadata": {},
   "outputs": [],
   "source": [
    "video_file = \"example-videos/pigeon_video.mp4\"\n",
    "\n",
    "# select the frame used as an example for finding good color tracking values\n",
    "frame = 4000\n",
    "\n",
    "ret, img = tracker.show_frame(video_file, frame)\n",
    "plt.imshow(img)\n",
    "\n"
   ]
  },
  {
   "cell_type": "code",
   "execution_count": null,
   "metadata": {},
   "outputs": [],
   "source": [
    "# The tracking will be performed on the HSV transformed image\n",
    "hsv_image = cv2.cvtColor(img, cv2.COLOR_BGR2HSV)\n",
    "plt.imshow(hsv_image)"
   ]
  },
  {
   "cell_type": "code",
   "execution_count": null,
   "metadata": {},
   "outputs": [],
   "source": [
    "# These specify the HSV range in which tracking will be performed\n",
    "lower_red = (170, 100, 100)\n",
    "upper_red = (180, 255, 255)\n",
    "\n",
    "# lower HSV color boundary\n",
    "lower_color_boundary = lower_red\n",
    "\n",
    "# uper HSV color boundary\n",
    "upper_color_boundary = upper_red\n",
    "\n",
    "color_reference_image = np.zeros((512,512,3), np.uint8)\n",
    "cv2.rectangle(color_reference_image,(250,0),(512,512),lower_color_boundary, -1)\n",
    "cv2.rectangle(color_reference_image,(0,0),(249,512),upper_color_boundary, -1)\n",
    "\n",
    "plt.imshow(color_reference_image)"
   ]
  },
  {
   "cell_type": "code",
   "execution_count": null,
   "metadata": {},
   "outputs": [],
   "source": [
    "# Tracking applied\n",
    "color_tracking_mask = cv2.inRange(hsv_image, lower_color_boundary, upper_color_boundary)\n",
    "\n",
    "plt.imshow(color_tracking_mask)"
   ]
  },
  {
   "cell_type": "code",
   "execution_count": null,
   "metadata": {},
   "outputs": [],
   "source": [
    "# Let's draw a rectangle around the biggest detected contour\n",
    "_, contours, _ = cv2.findContours(color_tracking_mask, cv2.RETR_EXTERNAL,\n",
    "                                                  cv2.CHAIN_APPROX_SIMPLE)\n",
    "\n",
    "tracked_object = max(contours, key=cv2.contourArea)\n",
    "x, y, w, h = cv2.boundingRect(tracked_object)\n",
    "cv2.rectangle(img, (x, y), (x + w, y + h), (0, 255, 0), thickness=3)\n",
    "\n",
    "plt.imshow(img)"
   ]
  },
  {
   "cell_type": "code",
   "execution_count": null,
   "metadata": {},
   "outputs": [],
   "source": []
  }
 ],
 "metadata": {
  "kernelspec": {
   "display_name": "Python 3",
   "language": "python",
   "name": "python3"
  },
  "language_info": {
   "codemirror_mode": {
    "name": "ipython",
    "version": 3
   },
   "file_extension": ".py",
   "mimetype": "text/x-python",
   "name": "python",
   "nbconvert_exporter": "python",
   "pygments_lexer": "ipython3",
   "version": "3.7.2"
  }
 },
 "nbformat": 4,
 "nbformat_minor": 2
}
